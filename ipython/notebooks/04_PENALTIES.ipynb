{
    "cells": [
        {
            "cell_type": "code",
            "execution_count": null,
            "metadata": {},
            "outputs": [],
            "source": [
                "import math\n",
                "import pandas as pd\n",
                "from sklearn.linear_model import LogisticRegression, PoissonRegressor\n",
                "\n",
                "from pbp.data import (\n",
                "    CURRENT_SEASON,\n",
                "    MODELS_PATH,\n",
                "    LOGR_KWARGS,\n",
                "    POIS_KWARGS,\n",
                "    common_timeout_features,\n",
                "    only_def_timeout_features,\n",
                "    only_off_timeout_features,\n",
                "    state_features,\n",
                "    add_clock_stops,\n",
                "    add_playcall_features,\n",
                "    load_pbp_data,\n",
                "    make_penalty_zs,\n",
                "    make_proe_data,\n",
                ")\n",
                "\n",
                "pd.set_option('display.max_rows', None)\n",
                "pd.set_option('display.max_columns', None)"
            ]
        },
        {
            "cell_type": "code",
            "execution_count": null,
            "metadata": {},
            "outputs": [],
            "source": []
        },
        {
            "cell_type": "code",
            "execution_count": null,
            "metadata": {},
            "outputs": [],
            "source": []
        },
        {
            "cell_type": "code",
            "execution_count": null,
            "metadata": {},
            "outputs": [],
            "source": [
                "try:\n",
                "    pbp.head(1)\n",
                "except:\n",
                "    pbp_copy = load_pbp_data(range(2017, CURRENT_SEASON + 1))"
            ]
        },
        {
            "cell_type": "code",
            "execution_count": null,
            "metadata": {},
            "outputs": [],
            "source": [
                "pbp = pbp_copy.copy()\n",
                "\n",
                "drive_keys = ['game_id','drive','posteam','defteam', 'posteam_score', 'defteam_score']\n",
                "drive_teams = (\n",
                "    pbp[~pbp['posteam'].isna() & ~pbp['defteam'].isna() & ~pbp['posteam_score'].isna() & ~pbp['defteam_score'].isna()]\n",
                "    [drive_keys]\n",
                "    .groupby(drive_keys, as_index=False)\n",
                "    .nth(0)\n",
                "    .rename(columns={'posteam': 'drive_offense', 'defteam': 'drive_defense', 'posteam_score': 'off_score', 'defteam_score': 'def_score'})\n",
                ")\n",
                "pbp['playcall'] = ''\n",
                "pbp = pbp.merge(drive_teams, on=['game_id', 'drive'], how='left').drop_duplicates(subset=['play_id','game_id'])\n",
                "\n",
                "pbp.loc[pbp['off_score'].isna(), 'off_score'] = pbp['posteam_score']\n",
                "pbp.loc[pbp['def_score'].isna(), 'def_score'] = pbp['defteam_score']\n"
            ]
        },
        {
            "cell_type": "code",
            "execution_count": null,
            "metadata": {},
            "outputs": [],
            "source": [
                "(offense_proes, defense_proes, offense_rz_proes, defense_rz_proes) = make_proe_data(pbp)"
            ]
        },
        {
            "cell_type": "code",
            "execution_count": null,
            "metadata": {},
            "outputs": [],
            "source": [
                "OFFENSIVE_PENALTIES_MAP = {\n",
                "    'Delay of Game': ('5', False),\n",
                "    'False Start': ('5', False),\n",
                "    'Illegal Formation': ('5', False),\n",
                "    'Illegal Motion': ('5', False),\n",
                "    'Illegal Shift': ('5', False),\n",
                "    'Illegal Substitution': ('5', False),\n",
                "    'Offensive 12 On-field': ('5', False),\n",
                "    'Offensive Offside': ('5', False),\n",
                "    'Offensive Too Many Men on Field': ('5', False),\n",
                "    'Ineligible Downfield Kick': ('5', False),\n",
                "    'Ineligible Downfield Pass': ('5', False),\n",
                "    'Illegal Block Above the Waist': ('10', False),\n",
                "    'Offensive Holding': ('10', False),\n",
                "    'Offensive Pass Interference': ('10', False),\n",
                "    'Illegal Use of Hands': ('10', False),\n",
                "    'Tripping': ('15', False),\n",
                "    'Chop Block': ('15', False),\n",
                "    'Clipping': ('15', False),\n",
                "    'Face Mask': ('15', False),\n",
                "    'Illegal Blindside Block': ('15', False),\n",
                "    'Illegal Crackback': ('15', False),\n",
                "    'Illegal Peelback': ('15', False),\n",
                "    'Low Block': ('15', False),\n",
                "    'Lowering the Head to Initiate Contact': ('15', False),\n",
                "    'Taunting': ('15', False),\n",
                "    'Unnecessary Roughness': ('15', False),\n",
                "    'Unsportsmanlike Conduct': ('15', False),\n",
                "    'Disqualification': ('Varies', False),\n",
                "    'Illegal Touch Kick': ('Varies', False),\n",
                "    'Illegal Touch Pass': ('Varies', False),\n",
                "    'Player Out of Bounds on Kick': ('Varies', False),\n",
                "    'Player Out of Bounds on Punt': ('Varies', False),\n",
                "    'Illegal Kick/Kicking Loose Ball': ('10', False),\n",
                "    'Illegal Bat': ('10', False),\n",
                "    # don't need yardage model for this\n",
                "    'Illegal Forward Pass': ('5', True),\n",
                "    'Intentional Grounding': ('Varies', True),\n",
                "}\n",
                "\n",
                "DEFENSIVE_PENALTIES_MAP = {\n",
                "    # no automatic first. all of these are 5 yards, so no model\n",
                "    'Defensive Offside': ('5', False),\n",
                "    'Neutral Zone Infraction': ('5', False),\n",
                "    'Defensive 12 On-field': ('5', False),\n",
                "    'Defensive Too Many Men on Field': ('5', False),\n",
                "    'Encroachment': ('5', False),\n",
                "    'Defensive Delay of Game': ('5', False),\n",
                "    'Delay of Game': ('5', False),\n",
                "    'Illegal Substitution': ('5', False),\n",
                "    'Running Into the Kicker': ('5', False),\n",
                "    # automatic first downs. 5, 15 or \"varies\" yards\n",
                "    'Illegal Formation': ('5', True),\n",
                "    'Defensive Holding': ('5', True),\n",
                "    'Illegal Contact': ('5', True),\n",
                "    'Illegal Use of Hands': ('5', True),\n",
                "    'Tripping': ('15', True),\n",
                "    'Taunting': ('15', True),\n",
                "    'Low Block': ('15', True),\n",
                "    'Unsportsmanlike Conduct': ('15', True),\n",
                "    'Roughing the Kicker': ('15', True),\n",
                "    'Roughing the Passer': ('15', True),\n",
                "    'Face Mask': ('15', True),\n",
                "    'Horse Collar Tackle': ('15', True),\n",
                "    'Leverage': ('15', True),\n",
                "    'Leaping': ('15', True),\n",
                "    'Lowering the Head to Initiate Contact': ('15', True),\n",
                "    'Lowering the Head to Make Forcible Contact': ('15', True),\n",
                "    'Unnecessary Roughness': ('15', True),\n",
                "    'Defensive Pass Interference': ('Varies', True),\n",
                "    'Disqualification': ('Varies', True),\n",
                "}\n",
                "\n",
                "pbp['penalty_offense'] = ((pbp['penalty_team'] == pbp['posteam']) & (pbp['penalty_type'].isin(OFFENSIVE_PENALTIES_MAP))).astype(int)\n",
                "pbp['penalty_defense'] = ((pbp['penalty_team'] == pbp['defteam']) & (pbp['penalty_type'].isin(DEFENSIVE_PENALTIES_MAP))).astype(int)\n",
                "\n",
                "pbp['playcall'] = ''\n",
                "pbp.loc[pbp['penalty_offense'] == 1, 'playcall'] = 'PENALTY_OFFENSE'\n",
                "pbp.loc[pbp['penalty_defense'] == 1, 'playcall'] = 'PENALTY_DEFENSE'"
            ]
        },
        {
            "cell_type": "code",
            "execution_count": null,
            "metadata": {},
            "outputs": [],
            "source": []
        },
        {
            "cell_type": "code",
            "execution_count": null,
            "metadata": {},
            "outputs": [],
            "source": []
        },
        {
            "cell_type": "code",
            "execution_count": null,
            "metadata": {},
            "outputs": [],
            "source": []
        },
        {
            "cell_type": "code",
            "execution_count": null,
            "metadata": {},
            "outputs": [],
            "source": [
                "pbp['home_timeout'] = 0\n",
                "pbp['away_timeout'] = 0\n",
                "\n",
                "pbp.loc[pbp['timeout'] == 'OFFENSIVE_TIMEOUT', 'home_timeout'] = (pbp['drive_offense'] == pbp['home_team']).astype(int)\n",
                "pbp.loc[pbp['timeout'] == 'DEFENSIVE_TIMEOUT', 'home_timeout'] = (pbp['drive_defense'] == pbp['home_team']).astype(int)\n",
                "\n",
                "pbp.loc[pbp['timeout'] == 'OFFENSIVE_TIMEOUT', 'away_timeout'] = (pbp['drive_offense'] == pbp['away_team']).astype(int)\n",
                "pbp.loc[pbp['timeout'] == 'DEFENSIVE_TIMEOUT', 'away_timeout'] = (pbp['drive_defense'] == pbp['away_team']).astype(int)\n",
                "\n",
                "pbp['home_timeout_prev'] = pbp['home_timeout'].shift(1)\n",
                "pbp['away_timeout_prev'] = pbp['away_timeout'].shift(1)\n",
                "pbp['duplicate_timeout'] = (\n",
                "    ((pbp['home_timeout_prev'] == 1) & (pbp['home_timeout'] == 1))\n",
                "    | ((pbp['away_timeout_prev'] == 1) & (pbp['away_timeout'] == 1))\n",
                ")\n",
                "pbp.loc[pbp['home_timeout_prev'] == 1, 'home_timeout'] = 0\n",
                "pbp.loc[pbp['away_timeout_prev'] == 1, 'away_timeout'] = 0\n",
                "\n",
                "pbp.loc[pbp['duplicate_timeout'], 'timeout'] = 'DUPLICATE'\n",
                "pbp.loc[pbp['duplicate_timeout'], 'playcall'] = 'DUPLICATE_TIMEOUT'\n",
                "\n",
                "pbp['total_home_timeouts'] = pbp.groupby(['game_id','home_team', 'game_half'])['home_timeout'].cumsum()\n",
                "pbp['total_away_timeouts'] = pbp.groupby(['game_id','away_team', 'game_half'])['away_timeout'].cumsum()\n"
            ]
        },
        {
            "cell_type": "code",
            "execution_count": null,
            "metadata": {},
            "outputs": [],
            "source": [
                "add_clock_stops(pbp)"
            ]
        },
        {
            "cell_type": "code",
            "execution_count": null,
            "metadata": {},
            "outputs": [],
            "source": []
        },
        {
            "cell_type": "code",
            "execution_count": null,
            "metadata": {},
            "outputs": [],
            "source": [
                "pbp['off_timeouts_left'] = 3\n",
                "pbp['def_timeouts_left'] = 3\n",
                "\n",
                "pbp.loc[pbp['drive_offense'] == pbp['home_team'], 'off_timeouts_left'] = 3 - pbp['total_home_timeouts']\n",
                "pbp.loc[pbp['drive_offense'] == pbp['away_team'], 'off_timeouts_left'] = 3 - pbp['total_away_timeouts']\n",
                "\n",
                "pbp.loc[pbp['drive_defense'] == pbp['home_team'], 'def_timeouts_left'] = 3 - pbp['total_home_timeouts']\n",
                "pbp.loc[pbp['drive_defense'] == pbp['away_team'], 'def_timeouts_left'] = 3 - pbp['total_away_timeouts']\n",
                "\n",
                "pbp['off_timeouts_remaining'] = pbp['posteam_timeouts_remaining'].combine_first(pbp['off_timeouts_left']).astype(int).clip(0, 3)\n",
                "pbp['def_timeouts_remaining'] = pbp['defteam_timeouts_remaining'].combine_first(pbp['def_timeouts_left']).astype(int).clip(0, 3)\n",
                "\n",
                "pbp['down'] = pbp['down'].apply(lambda x: str(int(x)) if not (math.isnan(x) or isinstance(x, str)) else x)\n",
                "pbp['qtr'] = pbp['qtr'].apply(lambda x: str(int(x)) if not (math.isnan(x) or isinstance(x, str)) else x)"
            ]
        },
        {
            "cell_type": "code",
            "execution_count": null,
            "metadata": {},
            "outputs": [],
            "source": []
        },
        {
            "cell_type": "code",
            "execution_count": null,
            "metadata": {},
            "outputs": [],
            "source": [
                "responses = [\n",
                "    'timeout',\n",
                "    'play_type',\n",
                "    # other\n",
                "    'extra_point_attempt',\n",
                "    'two_point_attempt',\n",
                "    'location',\n",
                "    'rushing_yards',\n",
                "    'yards_gained',\n",
                "    'touchdown',\n",
                "    'fumble_lost',\n",
                "    'qb_scramble',\n",
                "    'sack',\n",
                "    'receiver_player_id',\n",
                "    'incomplete_pass',\n",
                "    'complete_pass',\n",
                "    'interception',\n",
                "]\n",
                "\n",
                "penalty_responses = [\n",
                "    'penalty',\n",
                "    'penalty_type',\n",
                "    'penalty_yards',\n",
                "    'penalty_team',\n",
                "    # doesn't have auto, will have to back it out\n",
                "    'first_down',\n",
                "    'penalty_offense',\n",
                "    'penalty_defense',\n",
                "]\n",
                "\n",
                "raw_features = [\n",
                "    'down',\n",
                "    'ydstogo',\n",
                "    'goal_to_go',\n",
                "    'qtr', \n",
                "    'clock_running',\n",
                "    # 'quarter_seconds_remaining',\n",
                "    'yardline_100',\n",
                "    'off_score',\n",
                "    'def_score',\n",
                "    # 'play_clock',\n",
                "    'game_seconds_remaining',\n",
                "    'half_seconds_remaining',\n",
                "    # 'wp', \n",
                "    'off_timeouts_remaining',\n",
                "    'def_timeouts_remaining',\n",
                "    # 'total', 'spread_line',\n",
                "]\n",
                "\n",
                "cols = responses + ['posteam', 'defteam', 'season', 'home_team'] + raw_features + penalty_responses"
            ]
        },
        {
            "cell_type": "code",
            "execution_count": null,
            "metadata": {},
            "outputs": [],
            "source": [
                "off_penalties, def_penalties = make_penalty_zs(pbp)"
            ]
        },
        {
            "cell_type": "code",
            "execution_count": null,
            "metadata": {},
            "outputs": [],
            "source": []
        },
        {
            "cell_type": "code",
            "execution_count": null,
            "metadata": {},
            "outputs": [],
            "source": [
                "dataset = (\n",
                "    pd.get_dummies(pbp[cols], columns=['down', 'qtr', 'off_timeouts_remaining', 'def_timeouts_remaining'])\n",
                "    .merge(offense_proes, how='left', on=['posteam','season'])\n",
                "    .merge(defense_proes, how='left', on=['defteam','season'])\n",
                "    .merge(offense_rz_proes, how='left', on=['posteam','season'])\n",
                "    .merge(defense_rz_proes, how='left', on=['defteam','season'])\n",
                ")\n",
                "\n",
                "add_playcall_features(dataset)\n",
                "\n",
                "is_penalty = (dataset['penalty'] == 1)\n",
                "is_presnap_penalty = (dataset['play_type'] == 'no_play') & is_penalty\n",
                "# ignoring penalties after punts/fgs... seems fine\n",
                "postsnap_penalty_playtypes = ['run','pass']\n",
                "is_postplay_penalty = (dataset['play_type'].isin(postsnap_penalty_playtypes)) & is_penalty\n",
                "\n",
                "off_penalty_filter = dataset['penalty_team'] == dataset['posteam']\n",
                "def_penalty_filter = dataset['penalty_team'] == dataset['defteam']\n",
                "\n",
                "presnap_penalties = (\n",
                "    is_presnap_penalty\n",
                "    & (\n",
                "        (off_penalty_filter & dataset['penalty_type'].isin(OFFENSIVE_PENALTIES_MAP))\n",
                "        | (def_penalty_filter & dataset['penalty_type'].isin(DEFENSIVE_PENALTIES_MAP))\n",
                "    ) & (dataset['play_type'] != 'qb_kneel')\n",
                ")\n",
                "\n",
                "postplay_penalties = (\n",
                "    is_postplay_penalty\n",
                "    & (\n",
                "        (off_penalty_filter & dataset['penalty_type'].isin(OFFENSIVE_PENALTIES_MAP))\n",
                "        | (def_penalty_filter & dataset['penalty_type'].isin(DEFENSIVE_PENALTIES_MAP))\n",
                "    )\n",
                ")"
            ]
        },
        {
            "cell_type": "code",
            "execution_count": null,
            "metadata": {},
            "outputs": [],
            "source": []
        },
        {
            "cell_type": "code",
            "execution_count": null,
            "metadata": {},
            "outputs": [],
            "source": []
        },
        {
            "cell_type": "code",
            "execution_count": null,
            "metadata": {},
            "outputs": [],
            "source": [
                "\n"
            ]
        },
        {
            "cell_type": "code",
            "execution_count": null,
            "metadata": {},
            "outputs": [],
            "source": [
                "state_playcall_features = [\n",
                "    *state_features,\n",
                "    *common_timeout_features,\n",
                "    *only_off_timeout_features,\n",
                "    *only_def_timeout_features,\n",
                "]\n",
                "playcall_features = [\n",
                "    *state_playcall_features,\n",
                "    'offense_penalty_z',\n",
                "    'defense_penalty_z',\n",
                "    'off_def_penalty_z',\n",
                "]\n",
                "is_down = (dataset['down_1'] + dataset['down_2'] + dataset['down_3'] + dataset['down_4']) == 1\n",
                "has_yards = dataset['penalty_yards'] != 0\n",
                "\n",
                "presnap_penalty_df = (\n",
                "    dataset[has_yards & is_down & is_presnap_penalty]\n",
                "    .merge(off_penalties, how='left', on=['posteam','season'])\n",
                "    .merge(def_penalties, how='left', on=['defteam','season'])\n",
                ")\n",
                "\n",
                "postplay_penalty_df = (\n",
                "    dataset[dataset['play_type'].isin(postsnap_penalty_playtypes)]\n",
                "    .merge(off_penalties, how='left', on=['posteam','season'])\n",
                "    .merge(def_penalties, how='left', on=['defteam','season'])\n",
                ")\n",
                "\n",
                "presnap_penalty_df['off_def_penalty_z'] = presnap_penalty_df['offense_penalty_z'] * presnap_penalty_df['defense_penalty_z']\n",
                "postplay_penalty_df['off_def_penalty_z'] = postplay_penalty_df['offense_penalty_z'] * postplay_penalty_df['defense_penalty_z']"
            ]
        },
        {
            "cell_type": "code",
            "execution_count": null,
            "metadata": {},
            "outputs": [],
            "source": []
        },
        {
            "cell_type": "code",
            "execution_count": null,
            "metadata": {},
            "outputs": [],
            "source": []
        },
        {
            "cell_type": "code",
            "execution_count": null,
            "metadata": {},
            "outputs": [],
            "source": [
                "op_df = presnap_penalty_df[presnap_penalty_df['penalty_offense'] == 1].reset_index(drop=True)\n",
                "op_df['yards_class'] = op_df['penalty_type'].apply(lambda x: OFFENSIVE_PENALTIES_MAP[x][0])\n",
                "op_df['loss_of_down'] = op_df['penalty_type'].apply(lambda x: OFFENSIVE_PENALTIES_MAP[x][1]).astype(int)\n",
                "\n",
                "dp_df = presnap_penalty_df[presnap_penalty_df['penalty_defense'] == 1].reset_index(drop=True)\n",
                "dp_df['yards_class'] = dp_df['penalty_type'].apply(lambda x: DEFENSIVE_PENALTIES_MAP[x][0])\n",
                "dp_df['automatic_first'] = dp_df['penalty_type'].apply(lambda x: DEFENSIVE_PENALTIES_MAP[x][1]).astype(int)\n"
            ]
        },
        {
            "cell_type": "code",
            "execution_count": null,
            "metadata": {},
            "outputs": [],
            "source": []
        },
        {
            "cell_type": "code",
            "execution_count": null,
            "metadata": {},
            "outputs": [],
            "source": [
                "op_ld_model = LogisticRegression(**LOGR_KWARGS)\n",
                "op_ld_model.fit(op_df[playcall_features], op_df['loss_of_down'])"
            ]
        },
        {
            "cell_type": "code",
            "execution_count": null,
            "metadata": {},
            "outputs": [],
            "source": [
                "dp_af_model = LogisticRegression(**LOGR_KWARGS)\n",
                "dp_af_model.fit(dp_df[playcall_features], dp_df['automatic_first'])"
            ]
        },
        {
            "cell_type": "code",
            "execution_count": null,
            "metadata": {},
            "outputs": [],
            "source": [
                "op_yards_df = op_df[(op_df['loss_of_down'] == 0) & (op_df['yards_class'] != 'Varies')].reset_index(drop=True)\n",
                "op_yards_dummies = pd.get_dummies(op_yards_df['yards_class'], prefix='yards')\n",
                "op_yards_df[op_yards_dummies.columns] = op_yards_dummies"
            ]
        },
        {
            "cell_type": "code",
            "execution_count": null,
            "metadata": {},
            "outputs": [],
            "source": [
                "op_5yards_model = LogisticRegression(**LOGR_KWARGS)\n",
                "op_5yards_model.fit(op_yards_df[playcall_features], op_yards_df['yards_5'])\n",
                "\n",
                "yards_not5 = (op_yards_df['yards_5'] == 0)\n",
                "op_15yards_model = LogisticRegression(**LOGR_KWARGS)\n",
                "op_15yards_model.fit(op_yards_df[yards_not5][playcall_features], op_yards_df[yards_not5]['yards_15'])"
            ]
        },
        {
            "cell_type": "code",
            "execution_count": null,
            "metadata": {},
            "outputs": [],
            "source": []
        },
        {
            "cell_type": "code",
            "execution_count": null,
            "metadata": {},
            "outputs": [],
            "source": [
                "dp_yards_df = dp_df[(dp_df['automatic_first'] == 1)].reset_index(drop=True)\n",
                "dp_yards_dummies = pd.get_dummies(dp_yards_df['yards_class'], prefix='yards')\n",
                "dp_yards_df[dp_yards_dummies.columns] = dp_yards_dummies\n"
            ]
        },
        {
            "cell_type": "code",
            "execution_count": null,
            "metadata": {},
            "outputs": [],
            "source": [
                "dp_5yards_model = LogisticRegression(**LOGR_KWARGS)\n",
                "dp_5yards_model.fit(dp_yards_df[playcall_features], dp_yards_df['yards_5'])\n",
                "\n",
                "yards_not5 = (dp_yards_df['yards_5'] == 0)\n",
                "dp_15_yards_model = LogisticRegression(**LOGR_KWARGS)\n",
                "dp_15_yards_model.fit(dp_yards_df[yards_not5][playcall_features], dp_yards_df[yards_not5]['yards_15'])"
            ]
        },
        {
            "cell_type": "code",
            "execution_count": null,
            "metadata": {},
            "outputs": [],
            "source": [
                "# op_varies_filter = op_df['yards_class'] == 'Varies'\n",
                "\n",
                "# op_varies_model = PoissonRegressor(**RIDGE_KWARGS)\n",
                "# op_varies_model.fit(op_df[op_varies_filter][playcall_features], op_df[op_varies_filter]['penalty_yards'])"
            ]
        },
        {
            "cell_type": "code",
            "execution_count": null,
            "metadata": {},
            "outputs": [],
            "source": []
        },
        {
            "cell_type": "code",
            "execution_count": null,
            "metadata": {},
            "outputs": [],
            "source": [
                "dp_varies_filter = dp_df['yards_class'] == 'Varies'\n",
                "\n",
                "dp_varies_df = dp_df[dp_varies_filter].reset_index(drop=True)\n",
                "dp_varies_df['end_yardline'] = dp_varies_df['yardline_100'] - dp_varies_df['penalty_yards']\n",
                "dp_varies_df['to_1_yardline'] = (dp_varies_df['end_yardline'] <= 1).astype(int)\n",
                "\n",
                "dp_varies_to_1_model = LogisticRegression(**LOGR_KWARGS)\n",
                "dp_varies_to_1_model.fit(dp_varies_df[playcall_features], dp_varies_df['to_1_yardline'])\n",
                "dp_varies_at_1_pred = dp_varies_to_1_model.predict_proba(dp_varies_df[playcall_features])[:,1]\n",
                "\n",
                "# toss out half distance to the goal, as it will mess up our calculations\n",
                "is_half_distance = (dp_varies_df['yardline_100'] / 2 < dp_varies_df['penalty_yards']) & (dp_varies_df['penalty_yards'] < (dp_varies_df['yardline_100'] + 1) / 2)\n",
                "dp_varies_not_1_df = dp_varies_df[(dp_varies_df['to_1_yardline'] == 0) & ~is_half_distance].reset_index(drop=True)\n",
                "\n",
                "dp_varies_model = PoissonRegressor(**POIS_KWARGS)\n",
                "dp_varies_model.fit(dp_varies_not_1_df[playcall_features], dp_varies_not_1_df['penalty_yards'] - 1)\n",
                "dp_varies_pred = dp_varies_model.predict(dp_varies_not_1_df[playcall_features])\n",
                "\n",
                "dp_varies_var_model = PoissonRegressor(**POIS_KWARGS)\n",
                "dp_varies_var_model.fit(dp_varies_not_1_df[playcall_features], (dp_varies_not_1_df['penalty_yards'] - 1 - dp_varies_pred)**2)\n",
                "dp_varies_var_pred = dp_varies_var_model.predict(dp_varies_not_1_df[playcall_features])"
            ]
        },
        {
            "cell_type": "code",
            "execution_count": null,
            "metadata": {},
            "outputs": [],
            "source": []
        },
        {
            "cell_type": "code",
            "execution_count": null,
            "metadata": {},
            "outputs": [],
            "source": []
        },
        {
            "cell_type": "code",
            "execution_count": null,
            "metadata": {},
            "outputs": [],
            "source": []
        },
        {
            "cell_type": "code",
            "execution_count": null,
            "metadata": {},
            "outputs": [],
            "source": []
        },
        {
            "cell_type": "code",
            "execution_count": null,
            "metadata": {},
            "outputs": [],
            "source": []
        },
        {
            "cell_type": "code",
            "execution_count": null,
            "metadata": {},
            "outputs": [],
            "source": [
                "def format_presnap_logr_coefs(model: LogisticRegression, name: str) -> str:\n",
                "    ret = []\n",
                "    ret.append(f'\\n    pub fn {name}_coef() -> PenaltyModel {{')\n",
                "    ret.append('        PenaltyModel{')\n",
                "    ret.append(f'            intercept: {model.intercept_[0]:.3f},')\n",
                "    for c, f in zip(model.coef_[0], playcall_features):\n",
                "        ret.append(f'            {f}: {c:.3f},')\n",
                "    ret.append('        }')\n",
                "    ret.append('    }\\n')\n",
                "    return \"\\n\".join(ret)\n",
                "\n",
                "\n",
                "def format_presnap_linr_coefs(model: PoissonRegressor, name: str) -> str:\n",
                "    ret = []\n",
                "    ret.append(f'    pub fn {name}_coef() -> PenaltyModel {{')\n",
                "    ret.append('        PenaltyModel{')\n",
                "    ret.append(f'            intercept: {model.intercept_:.3f},')\n",
                "    for c, f in zip(model.coef_, playcall_features):\n",
                "        ret.append(f'            {f}: {c:.3f},')\n",
                "    ret.append('        }')\n",
                "    ret.append('    }\\n')\n",
                "    return \"\\n\".join(ret)    \n"
            ]
        },
        {
            "cell_type": "code",
            "execution_count": null,
            "metadata": {},
            "outputs": [],
            "source": []
        },
        {
            "cell_type": "code",
            "execution_count": null,
            "metadata": {},
            "outputs": [],
            "source": []
        },
        {
            "cell_type": "code",
            "execution_count": null,
            "metadata": {},
            "outputs": [],
            "source": []
        },
        {
            "cell_type": "code",
            "execution_count": null,
            "metadata": {},
            "outputs": [],
            "source": [
                "model_str_parts = [\"use crate::models::penalty::PenaltyModel;\\n\", \"impl PenaltyModel {\"]\n",
                "\n",
                "model_str_parts.append(format_presnap_logr_coefs(op_ld_model, 'offensive_loss_of_down'))\n",
                "model_str_parts.append(format_presnap_logr_coefs(dp_af_model, 'defensive_automatic_first'))\n",
                "\n",
                "model_str_parts.append(format_presnap_logr_coefs(op_5yards_model, 'offensive_5_yards'))\n",
                "model_str_parts.append(format_presnap_logr_coefs(op_15yards_model, 'offensive_15_yards'))\n",
                "\n",
                "model_str_parts.append(format_presnap_logr_coefs(dp_5yards_model, 'defensive_5_yards'))\n",
                "model_str_parts.append(format_presnap_logr_coefs(dp_15_yards_model, 'defensive_15_yards'))\n",
                "\n",
                "# TODO: later\n",
                "# print_linr_coefs(op_varies_model, 'offensive_yards_vary_coef')\n",
                "model_str_parts.append(format_presnap_logr_coefs(dp_varies_to_1_model, 'defensive_yards_to_1'))\n",
                "model_str_parts.append(format_presnap_linr_coefs(dp_varies_model, 'defensive_yards_vary'))\n",
                "model_str_parts.append(format_presnap_linr_coefs(dp_varies_var_model, 'defensive_yards_vary_var'))\n",
                "\n",
                "model_str_parts.append(\"}\")\n",
                "\n",
                "model_str = \"\\n\".join(model_str_parts)\n",
                "\n",
                "with open(f'{MODELS_PATH}/penalty/coef.rs', 'w') as f:\n",
                "    f.write(model_str)"
            ]
        },
        {
            "cell_type": "code",
            "execution_count": null,
            "metadata": {},
            "outputs": [],
            "source": []
        },
        {
            "cell_type": "code",
            "execution_count": null,
            "metadata": {},
            "outputs": [],
            "source": []
        },
        {
            "cell_type": "code",
            "execution_count": null,
            "metadata": {},
            "outputs": [],
            "source": [
                "include_ppp = (postplay_penalty_df['touchdown'] == 0) & (postplay_penalty_df['fumble_lost'] == 0)\n",
                "post_rush_penalty_df = postplay_penalty_df[include_ppp & (postplay_penalty_df['play_type'] == 'run') & (postplay_penalty_df['qb_scramble'] == 0)].fillna({'rushing_yards': 0}).reset_index(drop=True)\n",
                "post_rush_penalty_df['rushing_yards_div10'] = post_rush_penalty_df['rushing_yards'] / 10\n",
                "post_rush_penalty_df['rushing_yards_div10_sq'] = post_rush_penalty_df['rushing_yards_div10'] ** 2\n",
                "\n",
                "post_pass_penalty_df = (\n",
                "    postplay_penalty_df[include_ppp & ((postplay_penalty_df['play_type'] == 'pass') | (postplay_penalty_df['qb_scramble'] == 1))]\n",
                "    .fillna({\n",
                "        'yards_gained': 0,\n",
                "        # 'qb_scramble': 0,\n",
                "        # 'sack': 0,\n",
                "    })\n",
                "    .reset_index(drop=True)\n",
                ")\n",
                "post_pass_penalty_df['yards_gained_div10'] = post_pass_penalty_df['yards_gained'] / 10\n",
                "post_pass_penalty_df['yards_gained_div10_sq'] = post_pass_penalty_df['yards_gained_div10'] ** 2\n",
                "post_pass_penalty_df['throwaway'] = ((post_pass_penalty_df['incomplete_pass'] == 1) & (post_pass_penalty_df['receiver_player_id'].isna())).astype(int)\n",
                "post_pass_penalty_df['target_incomplete'] = post_pass_penalty_df['incomplete_pass'] - post_pass_penalty_df['throwaway']\n",
                "post_pass_penalty_df['target_complete'] = post_pass_penalty_df['complete_pass']"
            ]
        },
        {
            "cell_type": "code",
            "execution_count": null,
            "metadata": {},
            "outputs": [],
            "source": [
                "post_rush_penalty_features = [*playcall_features, 'rushing_yards_div10', 'rushing_yards_div10_sq']\n",
                "post_pass_penalty_features = [*playcall_features, 'qb_scramble', 'sack', 'throwaway', 'target_incomplete', 'target_complete', 'interception', 'yards_gained_div10', 'yards_gained_div10_sq']\n",
                "post_pass_penalty_yards_features = [*post_pass_penalty_features, 'loss_of_down']"
            ]
        },
        {
            "cell_type": "code",
            "execution_count": null,
            "metadata": {},
            "outputs": [],
            "source": [
                "def format_postrush_logr_coefs(model: LogisticRegression, name: str) -> str:\n",
                "    ret = []\n",
                "    ret.append(f'\\n    pub fn {name}_coef() -> PostRushPenaltyModel {{')\n",
                "    ret.append('        PostRushPenaltyModel{')\n",
                "    ret.append(f'            intercept: {model.intercept_[0]:.3f},')\n",
                "    for c, f in zip(model.coef_[0], post_rush_penalty_features):\n",
                "        ret.append(f'            {f}: {c:.3f},')\n",
                "    ret.append('        }')\n",
                "    ret.append('    }\\n')\n",
                "    return \"\\n\".join(ret)\n",
                "\n",
                "def format_postpass_logr_coefs(model: LogisticRegression, name: str) -> str:\n",
                "    ret = []\n",
                "    ret.append(f'\\n    pub fn {name}_coef() -> PostPassPenaltyModel {{')\n",
                "    ret.append('        PostPassPenaltyModel{')\n",
                "    ret.append(f'            intercept: {model.intercept_[0]:.3f},')\n",
                "    for c, f in zip(model.coef_[0], post_pass_penalty_yards_features):\n",
                "        ret.append(f'            {f}: {c:.3f},')\n",
                "    for f in post_pass_penalty_yards_features[len(model.coef_[0]):]:\n",
                "        ret.append(f'            {f}: 0.0,')\n",
                "    ret.append('        }')\n",
                "    ret.append('    }\\n')\n",
                "    return \"\\n\".join(ret)\n"
            ]
        },
        {
            "cell_type": "code",
            "execution_count": null,
            "metadata": {},
            "outputs": [],
            "source": []
        },
        {
            "cell_type": "code",
            "execution_count": null,
            "metadata": {},
            "outputs": [],
            "source": [
                "# either 5, 10 or 15\n",
                "is_postrush_off_penalty_model = LogisticRegression(**LOGR_KWARGS)\n",
                "is_postrush_off_penalty_model.fit(post_rush_penalty_df[post_rush_penalty_features], post_rush_penalty_df['penalty_offense'])\n",
                "is_postrush_off_penalty_model_pred = is_postrush_off_penalty_model.predict_proba(post_rush_penalty_df[post_rush_penalty_features])[:,1]\n",
                "\n",
                "postrush_off_df = post_rush_penalty_df[post_rush_penalty_df['penalty_offense'] == 1]\n",
                "\n",
                "is_off_postrush_penalty_df = post_rush_penalty_df[post_rush_penalty_df['penalty_offense'] == 1].reset_index(drop=True)\n",
                "is_5_off_postrush_penalty_yards = is_off_postrush_penalty_df['penalty_type'].map(lambda x: OFFENSIVE_PENALTIES_MAP[x][0] == '5').astype(int)\n",
                "is_off_postrush_penalty_df['is_10_off_postrush_penalty_yards'] = is_off_postrush_penalty_df['penalty_type'].map(lambda x: OFFENSIVE_PENALTIES_MAP[x][0] == '10').astype(int)\n",
                "\n",
                "is_5_off_postrush_penalty_yards_model = LogisticRegression(**LOGR_KWARGS)\n",
                "is_5_off_postrush_penalty_yards_model.fit(is_off_postrush_penalty_df[post_rush_penalty_features], is_5_off_postrush_penalty_yards)\n",
                "\n",
                "is_not_5_oprpy = is_5_off_postrush_penalty_yards == 0\n",
                "\n",
                "is_10_off_postrush_penalty_yards_model = LogisticRegression(**LOGR_KWARGS)\n",
                "is_10_off_postrush_penalty_yards_model.fit(is_off_postrush_penalty_df[is_not_5_oprpy][post_rush_penalty_features], is_off_postrush_penalty_df[is_not_5_oprpy]['is_10_off_postrush_penalty_yards'])\n",
                "\n",
                "# either 5 or 15\n",
                "is_postrush_def_penalty_model = LogisticRegression(**LOGR_KWARGS)\n",
                "is_postrush_def_penalty_model.fit(post_rush_penalty_df[post_rush_penalty_features], post_rush_penalty_df['penalty_defense'])\n",
                "is_postrush_def_penalty_model_pred = is_postrush_def_penalty_model.predict_proba(post_rush_penalty_df[post_rush_penalty_features])[:,1]\n",
                "\n",
                "is_def_postrush_penalty_df = post_rush_penalty_df[post_rush_penalty_df['penalty_defense'] == 1]\n",
                "is_5_def_postrush_penalty_yards = is_def_postrush_penalty_df['penalty_type'].map(lambda x: DEFENSIVE_PENALTIES_MAP[x][0] == '5').astype(int)\n",
                "\n",
                "is_5_def_postrush_penalty_yards_model = LogisticRegression(**LOGR_KWARGS)\n",
                "is_5_def_postrush_penalty_yards_model.fit(is_def_postrush_penalty_df[post_rush_penalty_features], is_5_def_postrush_penalty_yards)"
            ]
        },
        {
            "cell_type": "code",
            "execution_count": null,
            "metadata": {},
            "outputs": [],
            "source": [
                "# print('pub struct PostRushPenaltyModel {')\n",
                "# print('    intercept: f32,')\n",
                "# for f in post_rush_penalty_features:\n",
                "#     print(f'    {f}: f32,')\n",
                "# print('}')"
            ]
        },
        {
            "cell_type": "code",
            "execution_count": null,
            "metadata": {},
            "outputs": [],
            "source": [
                "model_str_parts = [\"use crate::models::post_rush_penalty::PostRushPenaltyModel;\\n\", \"impl PostRushPenaltyModel {\"]\n",
                "\n",
                "model_str_parts.append(format_postrush_logr_coefs(is_postrush_off_penalty_model, 'is_postrush_off_penalty'))\n",
                "model_str_parts.append(format_postrush_logr_coefs(is_5_off_postrush_penalty_yards_model, 'is_5_postrush_off_penalty_yards'))\n",
                "model_str_parts.append(format_postrush_logr_coefs(is_10_off_postrush_penalty_yards_model, 'is_10_postrush_off_penalty_yards'))\n",
                "\n",
                "model_str_parts.append(format_postrush_logr_coefs(is_postrush_def_penalty_model, 'is_postrush_def_penalty'))\n",
                "model_str_parts.append(format_postrush_logr_coefs(is_5_def_postrush_penalty_yards_model, 'is_5_postrush_def_penalty_yards'))\n",
                "\n",
                "model_str_parts.append(\"}\")\n",
                "\n",
                "model_str = \"\\n\".join(model_str_parts)\n",
                "\n",
                "with open(f'{MODELS_PATH}/post_rush_penalty/coef.rs', 'w') as f:\n",
                "    f.write(model_str)"
            ]
        },
        {
            "cell_type": "code",
            "execution_count": null,
            "metadata": {},
            "outputs": [],
            "source": []
        },
        {
            "cell_type": "code",
            "execution_count": null,
            "metadata": {},
            "outputs": [],
            "source": [
                "# either 5, 10 or 15\n",
                "is_postpass_off_penalty_model = LogisticRegression(**LOGR_KWARGS)\n",
                "is_postpass_off_penalty_model.fit(post_pass_penalty_df[post_pass_penalty_features], post_pass_penalty_df['penalty_offense'])\n",
                "is_postpass_off_penalty_model_pred = is_postpass_off_penalty_model.predict_proba(post_pass_penalty_df[post_pass_penalty_features])[:,1]\n",
                "\n",
                "postpass_off_df = post_pass_penalty_df[post_pass_penalty_df['penalty_offense'] == 1]\n",
                "\n",
                "is_off_postpass_penalty_df = post_pass_penalty_df[post_pass_penalty_df['penalty_offense'] == 1].reset_index(drop=True)\n",
                "is_off_postpass_penalty_df['loss_of_down'] = is_off_postpass_penalty_df['penalty_type'].map(lambda x: OFFENSIVE_PENALTIES_MAP[x][1]).astype(int)\n",
                "is_5_off_postpass_penalty_yards = is_off_postpass_penalty_df['penalty_type'].map(lambda x: OFFENSIVE_PENALTIES_MAP[x][0] == '5').astype(int)\n",
                "is_10_off_postpass_penalty_yards = is_off_postpass_penalty_df['penalty_type'].map(lambda x: OFFENSIVE_PENALTIES_MAP[x][0] == '10').astype(int)\n",
                "\n",
                "is_loss_of_down_model = LogisticRegression(**LOGR_KWARGS)\n",
                "is_loss_of_down_model.fit(is_off_postpass_penalty_df[post_pass_penalty_features], is_off_postpass_penalty_df['loss_of_down'])\n",
                "\n",
                "is_5_off_postpass_penalty_yards_model = LogisticRegression(**LOGR_KWARGS)\n",
                "is_5_off_postpass_penalty_yards_model.fit(is_off_postpass_penalty_df[post_pass_penalty_yards_features], is_5_off_postpass_penalty_yards)\n",
                "\n",
                "is_10_off_postpass_penalty_yards_model = LogisticRegression(**LOGR_KWARGS)\n",
                "is_10_off_postpass_penalty_yards_model.fit(is_off_postpass_penalty_df[post_pass_penalty_yards_features], is_10_off_postpass_penalty_yards)\n",
                "\n",
                "# either 5 or 15\n",
                "is_postpass_def_penalty_model = LogisticRegression(**LOGR_KWARGS)\n",
                "is_postpass_def_penalty_model.fit(post_pass_penalty_df[post_pass_penalty_features], post_pass_penalty_df['penalty_defense'])\n",
                "is_postpass_def_penalty_model_pred = is_postpass_def_penalty_model.predict_proba(post_pass_penalty_df[post_pass_penalty_features])[:,1]\n",
                "\n",
                "is_def_postpass_penalty_df = post_pass_penalty_df[post_pass_penalty_df['penalty_defense'] == 1]\n",
                "is_5_def_postpass_penalty_yards = is_def_postpass_penalty_df['penalty_type'].map(lambda x: DEFENSIVE_PENALTIES_MAP[x][0] == '5').astype(int)\n",
                "\n",
                "is_def_postpass_penalty_df = post_pass_penalty_df[post_pass_penalty_df['penalty_defense'] == 1]\n",
                "is_5_def_postpass_penalty_yards = is_def_postpass_penalty_df['penalty_type'].map(lambda x: DEFENSIVE_PENALTIES_MAP[x][0] == '5').astype(int)\n",
                "\n",
                "is_5_def_postpass_penalty_yards_model = LogisticRegression(**LOGR_KWARGS)\n",
                "is_5_def_postpass_penalty_yards_model.fit(is_def_postpass_penalty_df[post_pass_penalty_features], is_5_def_postpass_penalty_yards)"
            ]
        },
        {
            "cell_type": "code",
            "execution_count": null,
            "metadata": {},
            "outputs": [],
            "source": [
                "# is_postpass_off_penalty_model_pred.mean(), is_postpass_def_penalty_model_pred.mean()"
            ]
        },
        {
            "cell_type": "code",
            "execution_count": null,
            "metadata": {},
            "outputs": [],
            "source": [
                "# print('pub struct PostPassPenaltyModel {')\n",
                "# print('    intercept: f32,')\n",
                "# for f in post_pass_penalty_features:\n",
                "#     print(f'    {f}: f32,')\n",
                "# print('}')"
            ]
        },
        {
            "cell_type": "code",
            "execution_count": null,
            "metadata": {},
            "outputs": [],
            "source": [
                "model_str_parts = [\"use crate::models::post_pass_penalty::PostPassPenaltyModel;\\n\", \"impl PostPassPenaltyModel {\"]\n",
                "\n",
                "model_str_parts.append(format_postpass_logr_coefs(is_postpass_off_penalty_model, 'is_postpass_off_penalty'))\n",
                "model_str_parts.append(format_postpass_logr_coefs(is_5_off_postpass_penalty_yards_model, 'is_5_postpass_off_penalty_yards'))\n",
                "model_str_parts.append(format_postpass_logr_coefs(is_10_off_postpass_penalty_yards_model, 'is_10_postpass_off_penalty_yards'))\n",
                "\n",
                "model_str_parts.append(format_postpass_logr_coefs(is_postpass_def_penalty_model, 'is_postpass_def_penalty'))\n",
                "model_str_parts.append(format_postpass_logr_coefs(is_5_def_postpass_penalty_yards_model, 'is_5_postpass_def_penalty_yards'))\n",
                "\n",
                "model_str_parts.append(\"}\")\n",
                "\n",
                "model_str = \"\\n\".join(model_str_parts)\n",
                "\n",
                "with open(f'{MODELS_PATH}/post_pass_penalty/coef.rs', 'w') as f:\n",
                "    f.write(model_str)"
            ]
        },
        {
            "cell_type": "code",
            "execution_count": null,
            "metadata": {},
            "outputs": [],
            "source": []
        },
        {
            "cell_type": "code",
            "execution_count": null,
            "metadata": {},
            "outputs": [],
            "source": [
                "post_rush_penalty_df['penalty_offense'].mean(), post_rush_penalty_df['penalty_defense'].mean()\n",
                "\n",
                "# post_rush_penalty_df[post_rush_penalty_df['penalty_offense'] == 1]['penalty_yards'].mean(), post_rush_penalty_df[post_rush_penalty_df['penalty_defense'] == 1]['penalty_yards'].mean()"
            ]
        },
        {
            "cell_type": "code",
            "execution_count": null,
            "metadata": {},
            "outputs": [],
            "source": [
                "post_pass_penalty_df['penalty_offense'].mean(), post_pass_penalty_df['penalty_defense'].mean()\n",
                "\n",
                "# post_pass_penalty_df[post_pass_penalty_df['penalty_offense'] == 1]['penalty_yards'].mean(), post_pass_penalty_df[post_pass_penalty_df['penalty_defense'] == 1]['penalty_yards'].mean()"
            ]
        },
        {
            "cell_type": "code",
            "execution_count": null,
            "metadata": {},
            "outputs": [],
            "source": []
        },
        {
            "cell_type": "code",
            "execution_count": null,
            "metadata": {},
            "outputs": [],
            "source": []
        }
    ],
    "metadata": {
        "kernelspec": {
            "display_name": "venv",
            "language": "python",
            "name": "python3"
        },
        "language_info": {
            "codemirror_mode": {
                "name": "ipython",
                "version": 3
            },
            "file_extension": ".py",
            "mimetype": "text/x-python",
            "name": "python",
            "nbconvert_exporter": "python",
            "pygments_lexer": "ipython3",
            "version": "3.11.6"
        },
        "orig_nbformat": 4
    },
    "nbformat": 4,
    "nbformat_minor": 2
}
