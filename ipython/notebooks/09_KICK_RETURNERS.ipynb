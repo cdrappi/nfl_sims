{
    "cells": [
        {
            "cell_type": "code",
            "execution_count": null,
            "metadata": {},
            "outputs": [],
            "source": [
                "import pandas as pd\n",
                "import nfl_data_py\n",
                "\n",
                "from pbp.data import CURRENT_SEASON, BASELINES_PATH\n",
                "\n",
                "pd.set_option('display.max_rows', None)\n",
                "pd.set_option('display.max_columns', None)"
            ]
        },
        {
            "cell_type": "code",
            "execution_count": null,
            "metadata": {},
            "outputs": [],
            "source": []
        },
        {
            "cell_type": "code",
            "execution_count": null,
            "metadata": {},
            "outputs": [],
            "source": [
                "pbp_copy = nfl_data_py.import_pbp_data([CURRENT_SEASON])\n",
                "pbp = pbp_copy.drop_duplicates(subset=['play_id','game_id'])"
            ]
        },
        {
            "cell_type": "code",
            "execution_count": null,
            "metadata": {},
            "outputs": [],
            "source": []
        },
        {
            "cell_type": "code",
            "execution_count": null,
            "metadata": {},
            "outputs": [],
            "source": []
        },
        {
            "cell_type": "code",
            "execution_count": null,
            "metadata": {},
            "outputs": [],
            "source": [
                "punt_return_counts = (\n",
                "    pbp[pbp['play_type'] == 'punt']\n",
                "    .groupby(['return_team', 'punt_returner_player_id'], as_index=False)\n",
                "    .aggregate({'play_id': 'count'})\n",
                "    .rename(columns={'play_id': 'count', 'return_team': 'team', 'punt_returner_player_id': 'player_id'})\n",
                "    .sort_values(['team','count'], ascending=[True, False])\n",
                ")\n",
                "punt_return_counts.to_csv(f'{BASELINES_PATH}/punt_return_counts.csv', index=False)"
            ]
        },
        {
            "cell_type": "code",
            "execution_count": null,
            "metadata": {},
            "outputs": [],
            "source": [
                "kickoff_return_counts = (\n",
                "    pbp[pbp['play_type'] == 'kickoff']\n",
                "    .groupby(['return_team', 'kickoff_returner_player_id'], as_index=False)\n",
                "    .aggregate({'play_id': 'count'})\n",
                "    .rename(columns={'play_id': 'count', 'return_team': 'team', 'kickoff_returner_player_id': 'player_id'})\n",
                "    .sort_values(['team','count'], ascending=[True, False])\n",
                ")\n",
                "kickoff_return_counts.to_csv(f'{BASELINES_PATH}/kickoff_return_counts.csv', index=False)"
            ]
        },
        {
            "cell_type": "code",
            "execution_count": null,
            "metadata": {},
            "outputs": [],
            "source": []
        },
        {
            "cell_type": "code",
            "execution_count": null,
            "metadata": {},
            "outputs": [],
            "source": []
        },
        {
            "cell_type": "code",
            "execution_count": null,
            "metadata": {},
            "outputs": [],
            "source": [
                "punt_returners = punt_return_counts.groupby(['team'], as_index=False).nth(0)\n",
                "kickoff_returners = kickoff_return_counts.groupby(['team'], as_index=False).nth(0)"
            ]
        },
        {
            "cell_type": "code",
            "execution_count": null,
            "metadata": {},
            "outputs": [],
            "source": [
                "punt_returners.head()"
            ]
        },
        {
            "cell_type": "code",
            "execution_count": null,
            "metadata": {},
            "outputs": [],
            "source": [
                "kickoff_returners.head()"
            ]
        },
        {
            "cell_type": "code",
            "execution_count": null,
            "metadata": {},
            "outputs": [],
            "source": []
        },
        {
            "cell_type": "code",
            "execution_count": null,
            "metadata": {},
            "outputs": [],
            "source": []
        }
    ],
    "metadata": {
        "kernelspec": {
            "display_name": "venv",
            "language": "python",
            "name": "python3"
        },
        "language_info": {
            "codemirror_mode": {
                "name": "ipython",
                "version": 3
            },
            "file_extension": ".py",
            "mimetype": "text/x-python",
            "name": "python",
            "nbconvert_exporter": "python",
            "pygments_lexer": "ipython3",
            "version": "3.11.6"
        }
    },
    "nbformat": 4,
    "nbformat_minor": 2
}
