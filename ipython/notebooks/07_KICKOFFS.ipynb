{
    "cells": [
        {
            "cell_type": "code",
            "execution_count": null,
            "metadata": {},
            "outputs": [],
            "source": [
                "from typing import List\n",
                "import numpy as np\n",
                "import pandas as pd\n",
                "from sklearn.linear_model import LogisticRegression, PoissonRegressor\n",
                "\n",
                "from pbp.data import (\n",
                "    CURRENT_SEASON,\n",
                "    MODELS_PATH,\n",
                "    LOGR_KWARGS,\n",
                "    POIS_KWARGS,\n",
                "    add_possdiff_features,\n",
                "    load_pbp_data,\n",
                "    possdiff_plus_n,\n",
                ")\n",
                "\n",
                "pd.set_option('display.max_rows', None)\n",
                "pd.set_option('display.max_columns', None)"
            ]
        },
        {
            "cell_type": "code",
            "execution_count": null,
            "metadata": {},
            "outputs": [],
            "source": [
                "MIN_KICKOFF_DISTANCE = 25"
            ]
        },
        {
            "cell_type": "code",
            "execution_count": null,
            "metadata": {},
            "outputs": [],
            "source": [
                "try:\n",
                "    pbp.head(1)\n",
                "except:\n",
                "    pbp_copy = load_pbp_data(range(2019, CURRENT_SEASON + 1))"
            ]
        },
        {
            "cell_type": "code",
            "execution_count": null,
            "metadata": {},
            "outputs": [],
            "source": []
        },
        {
            "cell_type": "code",
            "execution_count": null,
            "metadata": {},
            "outputs": [],
            "source": [
                "pbp = pbp_copy.copy()\n",
                "\n",
                "drive_keys = ['game_id','drive','posteam','defteam']\n",
                "drive_teams = (\n",
                "    pbp[~pbp['posteam'].isna() & ~pbp['defteam'].isna() & ~pbp['posteam_score'].isna() & ~pbp['defteam_score'].isna()]\n",
                "    [drive_keys]\n",
                "    .groupby(drive_keys, as_index=False)\n",
                "    .nth(0)\n",
                "    .rename(columns={'posteam': 'drive_offense', 'defteam': 'drive_defense'})\n",
                ")\n",
                "pbp['playcall'] = ''\n",
                "pbp = pbp.merge(drive_teams, on=['game_id', 'drive'], how='left').drop_duplicates(subset=['play_id','game_id'])\n",
                "\n",
                "pbp['off_score'] = pbp['posteam_score']\n",
                "pbp['def_score'] = pbp['defteam_score']"
            ]
        },
        {
            "cell_type": "code",
            "execution_count": null,
            "metadata": {},
            "outputs": [],
            "source": []
        },
        {
            "cell_type": "code",
            "execution_count": null,
            "metadata": {},
            "outputs": [],
            "source": []
        },
        {
            "cell_type": "code",
            "execution_count": null,
            "metadata": {},
            "outputs": [],
            "source": [
                "timeouts = (pbp['play_type'] == 'no_play') & (pbp['timeout'] == 1)\n",
                "off_timeout = timeouts & (pbp['timeout_team'] == pbp['drive_offense'])\n",
                "def_timeout = timeouts & (pbp['timeout_team'] == pbp['drive_defense'])\n",
                "tv_timeout = timeouts & (~off_timeout) & (~def_timeout)\n",
                "\n",
                "pbp.loc[off_timeout, 'playcall'] = 'OFFENSIVE_TIMEOUT'\n",
                "pbp.loc[def_timeout, 'playcall'] = 'DEFENSIVE_TIMEOUT'\n",
                "\n",
                "pbp['home_timeout'] = 0\n",
                "pbp['away_timeout'] = 0\n",
                "\n",
                "pbp.loc[pbp['timeout'] == 'OFFENSIVE_TIMEOUT', 'home_timeout'] = (pbp['drive_offense'] == pbp['home_team']).astype(int)\n",
                "pbp.loc[pbp['timeout'] == 'DEFENSIVE_TIMEOUT', 'home_timeout'] = (pbp['drive_defense'] == pbp['home_team']).astype(int)\n",
                "\n",
                "pbp.loc[pbp['timeout'] == 'OFFENSIVE_TIMEOUT', 'away_timeout'] = (pbp['drive_offense'] == pbp['away_team']).astype(int)\n",
                "pbp.loc[pbp['timeout'] == 'DEFENSIVE_TIMEOUT', 'away_timeout'] = (pbp['drive_defense'] == pbp['away_team']).astype(int)\n",
                "\n",
                "pbp['home_timeout_prev'] = pbp['home_timeout'].shift(1)\n",
                "pbp['away_timeout_prev'] = pbp['away_timeout'].shift(1)\n",
                "pbp['duplicate_timeout'] = (\n",
                "    ((pbp['home_timeout_prev'] == 1) & (pbp['home_timeout'] == 1))\n",
                "    | ((pbp['away_timeout_prev'] == 1) & (pbp['away_timeout'] == 1))\n",
                ")\n",
                "pbp.loc[pbp['home_timeout_prev'] == 1, 'home_timeout'] = 0\n",
                "pbp.loc[pbp['away_timeout_prev'] == 1, 'away_timeout'] = 0\n",
                "\n",
                "pbp.loc[pbp['duplicate_timeout'], 'timeout'] = 'DUPLICATE'\n",
                "pbp.loc[pbp['duplicate_timeout'], 'playcall'] = 'DUPLICATE_TIMEOUT'\n",
                "\n",
                "pbp['total_home_timeouts'] = pbp.groupby(['game_id','home_team', 'game_half'])['home_timeout'].cumsum()\n",
                "pbp['total_away_timeouts'] = pbp.groupby(['game_id','away_team', 'game_half'])['away_timeout'].cumsum()\n",
                "\n",
                "pbp['off_timeouts_left'] = 3\n",
                "pbp['def_timeouts_left'] = 3\n",
                "\n",
                "pbp.loc[pbp['drive_offense'] == pbp['home_team'], 'off_timeouts_left'] = 3 - pbp['total_home_timeouts']\n",
                "pbp.loc[pbp['drive_offense'] == pbp['away_team'], 'off_timeouts_left'] = 3 - pbp['total_away_timeouts']\n",
                "\n",
                "pbp.loc[pbp['drive_defense'] == pbp['home_team'], 'def_timeouts_left'] = 3 - pbp['total_home_timeouts']\n",
                "pbp.loc[pbp['drive_defense'] == pbp['away_team'], 'def_timeouts_left'] = 3 - pbp['total_away_timeouts']\n",
                "\n",
                "pbp['off_timeouts_remaining'] = pbp['posteam_timeouts_remaining'].combine_first(pbp['off_timeouts_left']).astype(int).clip(0, 3)\n",
                "pbp['def_timeouts_remaining'] = pbp['defteam_timeouts_remaining'].combine_first(pbp['def_timeouts_left']).astype(int).clip(0, 3)\n"
            ]
        },
        {
            "cell_type": "code",
            "execution_count": null,
            "metadata": {},
            "outputs": [],
            "source": [
                "kickoff_filter = pbp['play_type'] == 'kickoff'\n",
                "kickoff_df = pbp[kickoff_filter].copy()"
            ]
        },
        {
            "cell_type": "code",
            "execution_count": null,
            "metadata": {},
            "outputs": [],
            "source": []
        },
        {
            "cell_type": "code",
            "execution_count": null,
            "metadata": {},
            "outputs": [],
            "source": []
        },
        {
            "cell_type": "code",
            "execution_count": null,
            "metadata": {},
            "outputs": [],
            "source": []
        },
        {
            "cell_type": "code",
            "execution_count": null,
            "metadata": {},
            "outputs": [],
            "source": []
        },
        {
            "cell_type": "code",
            "execution_count": null,
            "metadata": {},
            "outputs": [],
            "source": []
        },
        {
            "cell_type": "code",
            "execution_count": null,
            "metadata": {},
            "outputs": [],
            "source": [
                "kickoff_cols = [\n",
                "    'kick_distance',\n",
                "    'touchback',\n",
                "    'own_kickoff_recovery',\n",
                "    'return_yards',\n",
                "    'return_touchdown',\n",
                "    'yardline_100',\n",
                "    'game_seconds_remaining',\n",
                "    'half_seconds_remaining',\n",
                "    'off_timeouts_remaining',\n",
                "    'def_timeouts_remaining',\n",
                "    'home_team',\n",
                "    'posteam',\n",
                "    'defteam',\n",
                "    'off_score',\n",
                "    'def_score',\n",
                "    'location',\n",
                "]\n",
                "\n",
                "possdiff_n = [1, 2]\n",
                "\n",
                "kickoff_features = [\n",
                "    'inv_half_minutes',\n",
                "    'log_inv_half_minutes',\n",
                "    'inv_game_minutes',\n",
                "    'log_inv_game_minutes',\n",
                "    'possession_diff',\n",
                "    'fg_possession_diff',\n",
                "    'possdiff_per_minute',\n",
                "    'fgpossdiff_per_minute',\n",
                "    'off_timeouts_remaining_0',\n",
                "    'off_timeouts_remaining_1',\n",
                "    'off_timeouts_remaining_2',\n",
                "    'off_timeouts_remaining_3',\n",
                "    'def_timeouts_remaining_0',\n",
                "    'def_timeouts_remaining_1',\n",
                "    'def_timeouts_remaining_2',\n",
                "    'def_timeouts_remaining_3',\n",
                "    'garbage_time_win',\n",
                "    'garbage_time_loss',\n",
                "    *[f for n in possdiff_n for f in [f'possdiff_plus_{n}', f'possdiff_p{n}_per_minute']],\n",
                "    'kicked_from_pct',\n",
                "    'log_kicked_from_pct',\n",
                "]"
            ]
        },
        {
            "cell_type": "code",
            "execution_count": null,
            "metadata": {},
            "outputs": [],
            "source": [
                "dataset = pd.get_dummies(kickoff_df[kickoff_cols], columns=['off_timeouts_remaining', 'def_timeouts_remaining'])\n",
                "\n",
                "# out of bounds kicks = 25 yards\n",
                "dataset['onside_kick'] = (dataset['kick_distance'] < 24).astype(int)\n",
                "dataset['out_of_bounds_kick'] = (dataset['kick_distance'] == 25).astype(int)\n",
                "dataset['deep_kick'] = ((dataset['kick_distance'] > 25) & (dataset['touchback'] == 0)).astype(int)\n",
                "dataset['kicked_from_pct'] = dataset['yardline_100'] / 100.0\n",
                "\n",
                "add_possdiff_features(dataset)\n",
                "for n in possdiff_n:\n",
                "    dataset[f'possdiff_plus_{n}'] = dataset.apply(lambda r: possdiff_plus_n(r, n), axis=1)\n",
                "    dataset[f'possdiff_p{n}_per_minute'] = dataset[f'possdiff_plus_{n}'] / dataset['game_minutes_left']\n",
                "    \n",
                "dataset['log_kicked_from_pct'] = np.log(dataset['kicked_from_pct'].clip(0.01, 1))\n",
                "dataset['log_inv_half_minutes'] = np.log(dataset['inv_half_minutes'])\n",
                "dataset['log_inv_game_minutes'] = np.log(dataset['inv_game_minutes'])"
            ]
        },
        {
            "cell_type": "code",
            "execution_count": null,
            "metadata": {},
            "outputs": [],
            "source": []
        },
        {
            "cell_type": "code",
            "execution_count": null,
            "metadata": {},
            "outputs": [],
            "source": [
                "onside_kick_model = LogisticRegression(**LOGR_KWARGS)\n",
                "onside_kick_model.fit(dataset[kickoff_features], dataset['onside_kick'])"
            ]
        },
        {
            "cell_type": "code",
            "execution_count": null,
            "metadata": {},
            "outputs": [],
            "source": [
                "is_onside = dataset['onside_kick'] == 0\n",
                "\n",
                "out_of_bounds_kick_model = LogisticRegression(**LOGR_KWARGS)\n",
                "out_of_bounds_kick_model.fit(dataset[is_onside][kickoff_features], dataset[is_onside]['out_of_bounds_kick'])"
            ]
        },
        {
            "cell_type": "code",
            "execution_count": null,
            "metadata": {},
            "outputs": [],
            "source": []
        },
        {
            "cell_type": "code",
            "execution_count": null,
            "metadata": {},
            "outputs": [],
            "source": []
        },
        {
            "cell_type": "code",
            "execution_count": null,
            "metadata": {},
            "outputs": [],
            "source": [
                "deep_kicks = (dataset['deep_kick'] == 1) | (dataset['touchback'] == 1) | (dataset['out_of_bounds_kick'] == 1)\n",
                "touchback_model = LogisticRegression(**LOGR_KWARGS)\n",
                "touchback_model.fit(dataset[deep_kicks][kickoff_features], dataset[deep_kicks]['touchback'])"
            ]
        },
        {
            "cell_type": "code",
            "execution_count": null,
            "metadata": {},
            "outputs": [],
            "source": [
                "distance_features = [*kickoff_features]\n",
                "deep_kicks_df = dataset[dataset['deep_kick'] == 1].copy()\n",
                "\n",
                "deep_kicks_df['kicked_to_pct'] = deep_kicks_df['kicked_from_pct'] + deep_kicks_df['kick_distance'] / 100.0\n",
                "deep_kicks_df['log_kicked_to_pct'] = np.log(deep_kicks_df['kicked_to_pct'].clip(0.01, 1.0))"
            ]
        },
        {
            "cell_type": "code",
            "execution_count": null,
            "metadata": {},
            "outputs": [],
            "source": []
        },
        {
            "cell_type": "code",
            "execution_count": null,
            "metadata": {},
            "outputs": [],
            "source": [
                "kickoff_distance_model = PoissonRegressor()\n",
                "kickoff_distance_model.fit(deep_kicks_df[distance_features], deep_kicks_df['kick_distance'] - MIN_KICKOFF_DISTANCE)"
            ]
        },
        {
            "cell_type": "code",
            "execution_count": null,
            "metadata": {},
            "outputs": [],
            "source": [
                "kickoff_dist_features = [*distance_features, 'kicked_to_pct', 'log_kicked_to_pct']\n",
                "kickoff_return_td_model = LogisticRegression(**LOGR_KWARGS)\n",
                "kickoff_return_td_model.fit(deep_kicks_df[kickoff_dist_features], deep_kicks_df['return_touchdown'])"
            ]
        },
        {
            "cell_type": "code",
            "execution_count": null,
            "metadata": {},
            "outputs": [],
            "source": []
        },
        {
            "cell_type": "code",
            "execution_count": null,
            "metadata": {},
            "outputs": [],
            "source": [
                "# always assume it's for >= 0 yardage\n",
                "returned_kickoffs_no_td = deep_kicks_df[(deep_kicks_df['return_yards'] >= 0) & (deep_kicks_df['return_touchdown'] == 0)].copy()\n",
                "kick_return_yards_model = PoissonRegressor(**POIS_KWARGS)\n",
                "kick_return_yards_model.fit(returned_kickoffs_no_td[kickoff_dist_features], returned_kickoffs_no_td['return_yards'])\n",
                "ins_preds = kick_return_yards_model.predict(returned_kickoffs_no_td[kickoff_dist_features])\n",
                "\n",
                "kick_return_yards_var_model = PoissonRegressor(**POIS_KWARGS)\n",
                "kick_return_yards_var_model.fit(returned_kickoffs_no_td[kickoff_dist_features], (returned_kickoffs_no_td['return_yards'] - ins_preds) ** 2)"
            ]
        },
        {
            "cell_type": "code",
            "execution_count": null,
            "metadata": {},
            "outputs": [],
            "source": []
        },
        {
            "cell_type": "code",
            "execution_count": null,
            "metadata": {},
            "outputs": [],
            "source": [
                "# print('pub struct KickoffModel {')\n",
                "# print('    intercept: f32,')\n",
                "# for feature in kickoff_dist_features:\n",
                "#     print(f'    {feature}: f32,')\n",
                "# print('}')"
            ]
        },
        {
            "cell_type": "code",
            "execution_count": null,
            "metadata": {},
            "outputs": [],
            "source": [
                "def format_logr_coefs(model: LogisticRegression, name: str) -> List[str]:\n",
                "    str_parts = [f\"    pub fn {name}_coef() -> KickoffModel {{\"]\n",
                "    str_parts.append(\"        KickoffModel {\")\n",
                "    str_parts.append(f\"            intercept: {model.intercept_[0]:.4f},\")\n",
                "    for coef, name in zip(model.coef_[0], kickoff_dist_features):\n",
                "        str_parts.append(f\"            {name}: {coef:.4f},\")\n",
                "    for f in kickoff_dist_features[len(model.coef_[0]):]:\n",
                "        str_parts.append(f\"            {f}: 0.0,\")\n",
                "    str_parts.append(\"        }\")\n",
                "    str_parts.append(\"    }\")\n",
                "    return str_parts\n",
                "\n",
                "def format_linr_coefs(model: PoissonRegressor, name: str) -> List[str]:\n",
                "    str_parts = [f\"    pub fn {name}_coef() -> KickoffModel {{\"]\n",
                "    str_parts.append(\"        KickoffModel {\")\n",
                "    str_parts.append(f\"            intercept: {model.intercept_:.4f},\")\n",
                "    for coef, name in zip(model.coef_, kickoff_dist_features):\n",
                "        str_parts.append(f\"            {name}: {coef:.4f},\")\n",
                "    for f in kickoff_dist_features[len(model.coef_):]:\n",
                "        str_parts.append(f\"            {f}: 0.0,\")\n",
                "    str_parts.append(\"        }\")\n",
                "    str_parts.append(\"    }\")\n",
                "    return str_parts"
            ]
        },
        {
            "cell_type": "code",
            "execution_count": null,
            "metadata": {},
            "outputs": [],
            "source": []
        },
        {
            "cell_type": "code",
            "execution_count": null,
            "metadata": {},
            "outputs": [],
            "source": []
        },
        {
            "cell_type": "code",
            "execution_count": null,
            "metadata": {},
            "outputs": [],
            "source": []
        },
        {
            "cell_type": "code",
            "execution_count": null,
            "metadata": {},
            "outputs": [],
            "source": [
                "\n",
                "model_str_parts = [\"use crate::models::kickoff::KickoffModel;\", \"\\nimpl KickoffModel {\"]\n",
                "model_str_parts.extend(format_logr_coefs(onside_kick_model, \"onside_kick\"))\n",
                "model_str_parts.extend(format_logr_coefs(out_of_bounds_kick_model, \"out_of_bounds_kick\"))\n",
                "model_str_parts.extend(format_logr_coefs(touchback_model, \"touchback\"))\n",
                "model_str_parts.extend(format_linr_coefs(kickoff_distance_model, \"kickoff_distance\"))\n",
                "model_str_parts.extend(format_logr_coefs(kickoff_return_td_model, \"kickoff_return_td\"))\n",
                "model_str_parts.extend(format_linr_coefs(kick_return_yards_model, \"kickoff_return_yards\"))\n",
                "model_str_parts.extend(format_linr_coefs(kick_return_yards_var_model, \"kickoff_return_yards_var\"))\n",
                "model_str_parts.append(\"}\")\n",
                "\n",
                "with open(f'{MODELS_PATH}/kickoff/coef.rs', 'w') as f:\n",
                "    f.write(\"\\n\".join(model_str_parts))"
            ]
        },
        {
            "cell_type": "code",
            "execution_count": null,
            "metadata": {},
            "outputs": [],
            "source": []
        },
        {
            "cell_type": "code",
            "execution_count": null,
            "metadata": {},
            "outputs": [],
            "source": []
        }
    ],
    "metadata": {
        "kernelspec": {
            "display_name": "venv",
            "language": "python",
            "name": "python3"
        },
        "language_info": {
            "codemirror_mode": {
                "name": "ipython",
                "version": 3
            },
            "file_extension": ".py",
            "mimetype": "text/x-python",
            "name": "python",
            "nbconvert_exporter": "python",
            "pygments_lexer": "ipython3",
            "version": "3.11.6"
        }
    },
    "nbformat": 4,
    "nbformat_minor": 2
}
