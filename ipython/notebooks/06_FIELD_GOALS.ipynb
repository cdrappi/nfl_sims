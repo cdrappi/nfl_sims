{
    "cells": [
        {
            "cell_type": "code",
            "execution_count": null,
            "metadata": {},
            "outputs": [],
            "source": [
                "import numpy as np\n",
                "import pandas as pd\n",
                "import nfl_data_py\n",
                "\n",
                "from sklearn.linear_model import LogisticRegression\n",
                "from pbp.data import (\n",
                "    CURRENT_SEASON,\n",
                "    BASELINES_PATH,\n",
                "    MODELS_PATH,\n",
                "    LOGR_KWARGS,\n",
                "    add_is_home,\n",
                "    load_pbp_data,\n",
                ")\n",
                "\n",
                "pd.set_option('display.max_rows', None)\n",
                "pd.set_option('display.max_columns', None)"
            ]
        },
        {
            "cell_type": "code",
            "execution_count": null,
            "metadata": {},
            "outputs": [],
            "source": []
        },
        {
            "cell_type": "code",
            "execution_count": null,
            "metadata": {},
            "outputs": [],
            "source": [
                "pbp_copy = load_pbp_data(range(2017, CURRENT_SEASON + 1))\n",
                "pbp = pbp_copy.drop_duplicates(subset=['play_id','game_id'])"
            ]
        },
        {
            "cell_type": "code",
            "execution_count": null,
            "metadata": {},
            "outputs": [],
            "source": [
                "rosters = nfl_data_py.import_seasonal_rosters([CURRENT_SEASON])"
            ]
        },
        {
            "cell_type": "code",
            "execution_count": null,
            "metadata": {},
            "outputs": [],
            "source": []
        },
        {
            "cell_type": "code",
            "execution_count": null,
            "metadata": {},
            "outputs": [],
            "source": []
        },
        {
            "cell_type": "code",
            "execution_count": null,
            "metadata": {},
            "outputs": [],
            "source": []
        },
        {
            "cell_type": "code",
            "execution_count": null,
            "metadata": {},
            "outputs": [],
            "source": [
                "fga_df = pd.get_dummies(\n",
                "    pbp[pbp['field_goal_attempt'] == 1.0]\n",
                "    [['kicker_player_id','kicker_player_name','kick_distance','field_goal_result','fg_prob','roof','touchdown','posteam','home_team','location']]\n",
                "    .reset_index(drop=True),\n",
                "    columns=['roof']\n",
                ")\n",
                "\n",
                "add_is_home(fga_df)\n",
                "fga_df['fg_blocked'] = (fga_df['field_goal_result'] == 'blocked').astype(int)\n",
                "fga_df['fg_good'] = (fga_df['field_goal_result'] == 'made').astype(int)\n",
                "\n",
                "not_blocked = fga_df['fg_blocked'] == 0.0\n",
                "\n",
                "# dome & closed are same thing\n",
                "fga_df['roof_dome'] = fga_df['roof_dome'] + fga_df['roof_closed']\n",
                "\n",
                "fga_df['distance_pct'] = fga_df['kick_distance'] / 100\n",
                "fga_df['distance_2'] = fga_df['distance_pct'] ** 2\n",
                "fga_df['distance_3'] = fga_df['distance_pct'] ** 3\n",
                "\n",
                "fga_df['roof_open_dist'] = fga_df['roof_open'] * fga_df['distance_pct']\n",
                "fga_df['roof_dome_dist'] = fga_df['roof_dome'] * fga_df['distance_pct']\n",
                "fga_df['roof_outdoors_dist'] = fga_df['roof_outdoors'] * fga_df['distance_pct']\n",
                "\n",
                "fga_df['short_fg'] = 1 / (1.0 + np.exp((fga_df['kick_distance'] - 40) / 5))\n",
                "fga_df['long_fg'] = 1.0 - fga_df['short_fg']\n",
                "fga_df['short_fg_oe'] = fga_df['short_fg'] * (fga_df['fg_good'] - fga_df['fg_prob'])\n",
                "fga_df['long_fg_oe'] = fga_df['long_fg'] * (fga_df['fg_good'] - fga_df['fg_prob'])\n"
            ]
        },
        {
            "cell_type": "code",
            "execution_count": null,
            "metadata": {},
            "outputs": [],
            "source": []
        },
        {
            "cell_type": "code",
            "execution_count": null,
            "metadata": {},
            "outputs": [],
            "source": [
                "setting_fg_features = [\n",
                "    'is_offense_home',\n",
                "    'distance_pct', 'distance_2', 'distance_3',\n",
                "    'roof_dome',\n",
                "    'roof_open',\n",
                "    'roof_outdoors',\n",
                "    'roof_dome_dist',\n",
                "    'roof_open_dist',\n",
                "    'roof_outdoors_dist',\n",
                "]\n",
                "\n",
                "kicker_fg_features = [\n",
                "    'short_fg_z', 'long_fg_z',\n",
                "    'short_z_dist', 'long_z_dist',\n",
                "    'short_z_dist_2', 'long_z_dist_2',\n",
                "    'short_z_dist_3', 'long_z_dist_3',\n",
                "]\n",
                "\n",
                "fg_features = [*setting_fg_features, *kicker_fg_features]\n"
            ]
        },
        {
            "cell_type": "code",
            "execution_count": null,
            "metadata": {},
            "outputs": [],
            "source": [
                "fg_block_model = LogisticRegression(**LOGR_KWARGS)\n",
                "fg_block_model.fit(fga_df[setting_fg_features], fga_df['fg_blocked'])"
            ]
        },
        {
            "cell_type": "code",
            "execution_count": null,
            "metadata": {},
            "outputs": [],
            "source": [
                "fg_block_return_td_model = LogisticRegression(**LOGR_KWARGS)\n",
                "fg_block_return_td_model.fit(fga_df[~not_blocked][setting_fg_features], fga_df[~not_blocked]['touchdown'])\n"
            ]
        },
        {
            "cell_type": "code",
            "execution_count": null,
            "metadata": {},
            "outputs": [],
            "source": []
        },
        {
            "cell_type": "code",
            "execution_count": null,
            "metadata": {},
            "outputs": [],
            "source": []
        },
        {
            "cell_type": "code",
            "execution_count": null,
            "metadata": {},
            "outputs": [],
            "source": [
                "kicker_features = fga_df[not_blocked].groupby(['kicker_player_id', 'kicker_player_name'], as_index=False).aggregate({'short_fg_oe': 'mean', 'long_fg_oe': 'mean'}).sort_values(['short_fg_oe', 'long_fg_oe'], ascending=False).reset_index(drop=True)"
            ]
        },
        {
            "cell_type": "code",
            "execution_count": null,
            "metadata": {},
            "outputs": [],
            "source": [
                "kicker_features['short_fg_z'] = ((kicker_features['short_fg_oe'] - kicker_features['short_fg_oe'].mean()) / kicker_features['short_fg_oe'].std()).clip(-3, 3)\n",
                "kicker_features['long_fg_z'] = ((kicker_features['long_fg_oe'] - kicker_features['long_fg_oe'].mean()) / kicker_features['long_fg_oe'].std()).clip(-3, 3)\n",
                "\n",
                "fga_train = fga_df[not_blocked].merge(kicker_features[['kicker_player_id', 'short_fg_z', 'long_fg_z']], on='kicker_player_id', how='left')\n",
                "\n",
                "fga_train['short_z_dist'] = fga_train['short_fg_z'] * fga_train['distance_pct']\n",
                "fga_train['long_z_dist'] = fga_train['long_fg_z'] * fga_train['distance_pct']\n",
                "\n",
                "fga_train['short_z_dist_2'] = fga_train['short_fg_z'] * fga_train['distance_2']\n",
                "fga_train['long_z_dist_2'] = fga_train['long_fg_z'] * fga_train['distance_2']\n",
                "\n",
                "fga_train['short_z_dist_3'] = fga_train['short_fg_z'] * fga_train['distance_3']\n",
                "fga_train['long_z_dist_3'] = fga_train['long_fg_z'] * fga_train['distance_3']"
            ]
        },
        {
            "cell_type": "code",
            "execution_count": null,
            "metadata": {},
            "outputs": [],
            "source": [
                "fg_made_model = LogisticRegression(**LOGR_KWARGS)\n",
                "fg_made_model.fit(fga_train[fg_features], fga_train['fg_good'])\n",
                "\n",
                "fga_train['ins_prob'] = fg_made_model.predict_proba(fga_train[fg_features])[:, 1]"
            ]
        },
        {
            "cell_type": "code",
            "execution_count": null,
            "metadata": {},
            "outputs": [],
            "source": []
        },
        {
            "cell_type": "code",
            "execution_count": null,
            "metadata": {},
            "outputs": [],
            "source": [
                "def format_fg_block_coef(model: LogisticRegression, name: str) -> str:\n",
                "    ret = []\n",
                "    ret.append(f\"\\n    pub fn {name}() -> FgModel {{\")\n",
                "    ret.append(\"        FgModel {\")\n",
                "    ret.append(f'            intercept: {model.intercept_[0]:.3f},')\n",
                "    for f, c in zip(setting_fg_features, model.coef_[0]):\n",
                "        ret.append(f'            {f}: {c:.3f},')\n",
                "    for c in kicker_fg_features:\n",
                "        ret.append(f'            {c}: 0.0,')\n",
                "    ret.append(\"        }\")\n",
                "    ret.append(\"    }\\n\")\n",
                "    return '\\n'.join(ret)\n",
                "\n",
                "def format_fg_good_coef(model_: LogisticRegression, name: str):\n",
                "    ret = []\n",
                "    ret.append(f\"\\n    pub fn {name}_coef() -> FgModel {{\")\n",
                "    ret.append(\"        FgModel {\")\n",
                "    ret.append(f'            intercept: {model_.intercept_[0]:.3f},')\n",
                "    for f, c in zip(fg_features, model_.coef_[0]):\n",
                "        ret.append(f'            {f}: {c:.3f},')\n",
                "    ret.append(\"        }\")\n",
                "    ret.append(\"    }\\n\")\n",
                "    return '\\n'.join(ret)\n",
                "    "
            ]
        },
        {
            "cell_type": "code",
            "execution_count": null,
            "metadata": {},
            "outputs": [],
            "source": [
                "# print(\"pub struct FgModel {\")\n",
                "# print(\"    pub intercept: f64,\")\n",
                "# for f in fg_features:\n",
                "#     print(f\"    pub {f}: f64,\")\n",
                "# print(\"}\\n\")\n",
                "\n",
                "model_str_parts = [\"use crate::models::field_goals::FgModel;\\n\", \"impl FgModel {\"]\n",
                "model_str_parts.append(format_fg_block_coef(fg_block_model, \"is_fg_blocked_coef\"))\n",
                "model_str_parts.append(format_fg_block_coef(fg_block_return_td_model, \"is_fg_block_returned_for_td_coef\"))\n",
                "model_str_parts.append(format_fg_good_coef(fg_made_model, \"is_fg_good\"))\n",
                "model_str_parts.append(\"}\")\n",
                "\n",
                "model_str = '\\n'.join(model_str_parts)\n",
                "\n",
                "with open(f\"{MODELS_PATH}/field_goals/coef.rs\", 'w') as f:\n",
                "    f.write(model_str)"
            ]
        },
        {
            "cell_type": "code",
            "execution_count": null,
            "metadata": {},
            "outputs": [],
            "source": []
        },
        {
            "cell_type": "code",
            "execution_count": null,
            "metadata": {},
            "outputs": [],
            "source": []
        },
        {
            "cell_type": "code",
            "execution_count": null,
            "metadata": {},
            "outputs": [],
            "source": []
        },
        {
            "cell_type": "code",
            "execution_count": null,
            "metadata": {},
            "outputs": [],
            "source": [
                "fga_train[['fg_good', 'ins_prob', 'fg_prob', 'short_fg_z', 'long_fg_z']].head()"
            ]
        },
        {
            "cell_type": "code",
            "execution_count": null,
            "metadata": {},
            "outputs": [],
            "source": []
        },
        {
            "cell_type": "code",
            "execution_count": null,
            "metadata": {},
            "outputs": [],
            "source": [
                "write_kickers = (\n",
                "    kicker_features\n",
                "    .drop(columns=['short_fg_oe','long_fg_oe'])\n",
                "    .rename(columns={'kicker_player_id': 'player_id'})\n",
                ")\n",
                "write_kickers['short_fg_z'] = write_kickers['short_fg_z'].round(2)\n",
                "write_kickers['long_fg_z'] = write_kickers['long_fg_z'].round(2)\n",
                "write_kickers.to_csv(f\"{BASELINES_PATH}/kickers.csv\", index=False)"
            ]
        },
        {
            "cell_type": "code",
            "execution_count": null,
            "metadata": {},
            "outputs": [],
            "source": []
        },
        {
            "cell_type": "code",
            "execution_count": null,
            "metadata": {},
            "outputs": [],
            "source": []
        },
        {
            "cell_type": "code",
            "execution_count": null,
            "metadata": {},
            "outputs": [],
            "source": []
        },
        {
            "cell_type": "code",
            "execution_count": null,
            "metadata": {},
            "outputs": [],
            "source": []
        },
        {
            "cell_type": "code",
            "execution_count": null,
            "metadata": {},
            "outputs": [],
            "source": []
        }
    ],
    "metadata": {
        "kernelspec": {
            "display_name": "venv",
            "language": "python",
            "name": "python3"
        },
        "language_info": {
            "codemirror_mode": {
                "name": "ipython",
                "version": 3
            },
            "file_extension": ".py",
            "mimetype": "text/x-python",
            "name": "python",
            "nbconvert_exporter": "python",
            "pygments_lexer": "ipython3",
            "version": "3.11.6"
        },
        "orig_nbformat": 4
    },
    "nbformat": 4,
    "nbformat_minor": 2
}
