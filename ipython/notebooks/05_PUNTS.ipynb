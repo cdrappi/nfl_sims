{
    "cells": [
        {
            "cell_type": "code",
            "execution_count": null,
            "metadata": {},
            "outputs": [],
            "source": [
                "import pandas as pd\n",
                "import numpy as np\n",
                "from sklearn.linear_model import LogisticRegression, PoissonRegressor\n",
                "\n",
                "from pbp.data import (\n",
                "    CURRENT_SEASON,\n",
                "    MODELS_PATH,\n",
                "    POIS_KWARGS,\n",
                "    LOGR_KWARGS,\n",
                "    add_is_home,\n",
                "    load_pbp_data\n",
                ")\n",
                "\n",
                "pd.set_option('display.max_rows', None)\n",
                "pd.set_option('display.max_columns', None)"
            ]
        },
        {
            "cell_type": "code",
            "execution_count": null,
            "metadata": {},
            "outputs": [],
            "source": []
        },
        {
            "cell_type": "code",
            "execution_count": null,
            "metadata": {},
            "outputs": [],
            "source": [
                "pbp_copy = load_pbp_data(range(2017, CURRENT_SEASON + 1))"
            ]
        },
        {
            "cell_type": "code",
            "execution_count": null,
            "metadata": {},
            "outputs": [],
            "source": [
                "pbp = pbp_copy.drop_duplicates(subset=['play_id','game_id'])"
            ]
        },
        {
            "cell_type": "code",
            "execution_count": null,
            "metadata": {},
            "outputs": [],
            "source": [
                "punt_cols = ['posteam','defteam','home_team','yardline_100','punt_blocked','touchback','fumble_lost','punt_fair_catch','kick_distance','return_yards', 'return_touchdown','punter_player_id', 'punter_player_name', 'location']\n",
                "distance_features = ['is_offense_home', 'yardline_pct','log_yardline_pct', 'touchback_goodness', 'log_touchback_goodness', 'yardline_tbg']\n",
                "\n",
                "punt_plays = pbp['play_type'] == 'punt'\n",
                "punt_df = pbp[punt_plays][punt_cols].reset_index(drop=True)\n",
                "\n",
                "add_is_home(punt_df)\n",
                "\n",
                "punt_df.loc[(punt_df['touchback'] == 1) & (punt_df['kick_distance'].isna()), 'kick_distance'] = punt_df['yardline_100']\n",
                "\n",
                "punt_df['yardline_pct'] = punt_df['yardline_100'] / 100\n",
                "punt_df['log_yardline_pct'] = np.log(punt_df['yardline_pct'].clip(0.01, 1.0))\n",
                "\n",
                "punt_df['kick_distance_pct'] = punt_df['kick_distance'] / 100\n",
                "punt_df['log_kick_distance_pct'] = np.log(punt_df['kick_distance_pct'].clip(0.01, 1.0))\n",
                "\n",
                "punt_df['punted_to_100'] = (punt_df['yardline_100'] - punt_df['kick_distance'])\n",
                "punt_df['punted_to_pct'] = punt_df['punted_to_100'] / 100\n",
                "punt_df['log_punted_to_pct'] = np.log(punt_df['punted_to_pct'].clip(0.01, 1.0))\n",
                "punt_df['touchback_goodness'] = 1 / (1 + np.exp(-1 * (punt_df['yardline_100'] - 60) / 8))\n",
                "punt_df['log_touchback_goodness'] = np.log(punt_df['touchback_goodness'])\n",
                "punt_df['yardline_tbg'] = punt_df['yardline_pct'] * punt_df['touchback_goodness']"
            ]
        },
        {
            "cell_type": "code",
            "execution_count": null,
            "metadata": {},
            "outputs": [],
            "source": [
                "punt_blocks = pbp['punt_blocked'] == 1\n",
                "punt_block_df = pbp[punt_plays][[*punt_cols, 'punt_blocked']].reset_index(drop=True)"
            ]
        },
        {
            "cell_type": "code",
            "execution_count": null,
            "metadata": {},
            "outputs": [],
            "source": [
                "punt_block_model = LogisticRegression(**LOGR_KWARGS)\n",
                "punt_block_model.fit(punt_df[distance_features], punt_df['punt_blocked'])"
            ]
        },
        {
            "cell_type": "code",
            "execution_count": null,
            "metadata": {},
            "outputs": [],
            "source": []
        },
        {
            "cell_type": "code",
            "execution_count": null,
            "metadata": {},
            "outputs": [],
            "source": [
                "punt_success_df = punt_df[punt_df['punt_blocked'] == 0].dropna().reset_index(drop=True)\n",
                "punt_success_df['is_fair_catch'] = ((punt_success_df['punt_fair_catch'] == 1) | ((punt_success_df['fumble_lost'] == 0) & (punt_success_df['return_yards'] == 0))).astype(int)"
            ]
        },
        {
            "cell_type": "code",
            "execution_count": null,
            "metadata": {},
            "outputs": [],
            "source": []
        },
        {
            "cell_type": "code",
            "execution_count": null,
            "metadata": {},
            "outputs": [],
            "source": [
                "punt_distance_model = PoissonRegressor(**POIS_KWARGS)\n",
                "punt_distance_model.fit(punt_success_df[distance_features], punt_success_df['kick_distance'].clip(0))\n",
                "# punt_distance_pred = punt_distance_model.predict(punt_success_df[distance_features])\n",
                "# punt_distance_resid = (punt_distance_pred - punt_success_df['kick_distance'].clip(0)).var()\n",
                "# print(f'const PUNT_DISTANCE_RESID: f32 = {punt_distance_resid:.4f};')"
            ]
        },
        {
            "cell_type": "code",
            "execution_count": null,
            "metadata": {},
            "outputs": [],
            "source": [
                "punted_features = [*distance_features, 'kick_distance_pct', 'log_kick_distance_pct', 'punted_to_pct', 'log_punted_to_pct']\n",
                "touchback_model = LogisticRegression(**LOGR_KWARGS)\n",
                "touchback_model.fit(punt_success_df[punted_features], punt_success_df['touchback'])"
            ]
        },
        {
            "cell_type": "code",
            "execution_count": null,
            "metadata": {},
            "outputs": [],
            "source": []
        },
        {
            "cell_type": "code",
            "execution_count": null,
            "metadata": {},
            "outputs": [],
            "source": []
        },
        {
            "cell_type": "code",
            "execution_count": null,
            "metadata": {},
            "outputs": [],
            "source": []
        },
        {
            "cell_type": "code",
            "execution_count": null,
            "metadata": {},
            "outputs": [],
            "source": []
        },
        {
            "cell_type": "code",
            "execution_count": null,
            "metadata": {},
            "outputs": [],
            "source": []
        },
        {
            "cell_type": "code",
            "execution_count": null,
            "metadata": {},
            "outputs": [],
            "source": [
                "fair_catch_df = punt_success_df[punt_success_df['touchback'] == 0].reset_index(drop=True)\n",
                "fair_catch_model = LogisticRegression(**LOGR_KWARGS)\n",
                "\n",
                "# either an explicit fair catch, or no return (e.g. downed by defense)\n",
                "fair_catch_model.fit(fair_catch_df[punted_features], fair_catch_df['is_fair_catch'])"
            ]
        },
        {
            "cell_type": "code",
            "execution_count": null,
            "metadata": {},
            "outputs": [],
            "source": [
                "returned_punts = (punt_success_df['touchback'] == 0) & (punt_success_df['is_fair_catch'] == 0)\n",
                "\n",
                "fumlost_df = punt_success_df[returned_punts].reset_index(drop=True)\n",
                "\n",
                "fumlost_model = LogisticRegression(**LOGR_KWARGS)\n",
                "fumlost_model.fit(fumlost_df[punted_features], fumlost_df['fumble_lost'])"
            ]
        },
        {
            "cell_type": "code",
            "execution_count": null,
            "metadata": {},
            "outputs": [],
            "source": [
                "fumbles_lost = returned_punts & (punt_success_df['fumble_lost'] == 1)\n",
                "\n",
                "fumble_return_td_df = punt_success_df[fumbles_lost].reset_index(drop=True)\n",
                "fumlost_rtd_model = LogisticRegression(**LOGR_KWARGS)\n",
                "fumlost_rtd_model.fit(fumble_return_td_df[punted_features], fumble_return_td_df['return_touchdown'])"
            ]
        },
        {
            "cell_type": "code",
            "execution_count": null,
            "metadata": {},
            "outputs": [],
            "source": [
                "returned_punts = returned_punts & (punt_success_df['fumble_lost'] == 0)\n",
                "\n",
                "punt_return_td_df = punt_success_df[returned_punts].reset_index(drop=True)\n",
                "\n",
                "return_td_model = LogisticRegression(**LOGR_KWARGS)\n",
                "return_td_model.fit(punt_return_td_df[punted_features], punt_return_td_df['return_touchdown'])"
            ]
        },
        {
            "cell_type": "code",
            "execution_count": null,
            "metadata": {},
            "outputs": [],
            "source": []
        },
        {
            "cell_type": "code",
            "execution_count": null,
            "metadata": {},
            "outputs": [],
            "source": [
                "returned_nontd = returned_punts & (punt_success_df['return_touchdown'] == 0)\n",
                "\n",
                "return_yards_df = punt_success_df[returned_nontd].reset_index(drop=True)\n",
                "return_yards_df['is_pos_return_yards'] = (return_yards_df['return_yards'] > 0).astype(int)\n",
                "is_pos_return_yards = return_yards_df['is_pos_return_yards'] == 1\n",
                "\n",
                "is_pos_return_yards_model = LogisticRegression(**LOGR_KWARGS)\n",
                "is_pos_return_yards_model.fit(return_yards_df[punted_features], return_yards_df['is_pos_return_yards'])\n",
                "\n",
                "pos_return_yards_model = PoissonRegressor(**POIS_KWARGS)\n",
                "pos_return_yards_model.fit(return_yards_df[is_pos_return_yards][punted_features], return_yards_df[is_pos_return_yards]['return_yards'] - 1)\n",
                "\n",
                "neg_return_yards_model = PoissonRegressor(**POIS_KWARGS)\n",
                "neg_return_yards_model.fit(return_yards_df[~is_pos_return_yards][punted_features], 1 - return_yards_df[~is_pos_return_yards]['return_yards'])\n"
            ]
        },
        {
            "cell_type": "code",
            "execution_count": null,
            "metadata": {},
            "outputs": [],
            "source": []
        },
        {
            "cell_type": "code",
            "execution_count": null,
            "metadata": {},
            "outputs": [],
            "source": [
                "def format_punt_block_coefs(model, name) -> str:\n",
                "    ret = []\n",
                "    ret.append(f'\\n    pub fn {name}() -> PuntModel {{')\n",
                "    ret.append(\"        PuntModel {\")\n",
                "    ret.append(f\"            intercept: {model.intercept_[0]:.3f},\")\n",
                "    for feature, coef in zip(punted_features, model.coef_[0]):\n",
                "        ret.append(f\"            {feature}: {coef:.3f},\")\n",
                "    for feature in punted_features[len(model.coef_[0]):]:\n",
                "        ret.append(f\"            {feature}: 0.0,\")\n",
                "    ret.append(\"        }\")\n",
                "    ret.append(\"    }\\n\")\n",
                "    return '\\n'.join(ret)\n",
                "\n",
                "def format_distance_coefs(model, name) -> str:\n",
                "    ret = []\n",
                "    ret.append(f'\\n    pub fn {name}() -> PuntModel {{')\n",
                "    ret.append(\"        PuntModel {\")\n",
                "    ret.append(f\"            intercept: {model.intercept_:.3f},\")\n",
                "    for feature, coef in zip(punted_features, model.coef_):\n",
                "        ret.append(f\"            {feature}: {coef:.3f},\")\n",
                "    for feature in punted_features[len(model.coef_):]:\n",
                "        ret.append(f\"            {feature}: 0.0,\")\n",
                "    ret.append(\"        }\")\n",
                "    ret.append(\"    }\")\n",
                "    return '\\n'.join(ret)\n",
                "\n",
                "def format_logr_coefs(model, name) -> str:\n",
                "    ret = []\n",
                "    ret.append(f'\\n    pub fn {name}() -> PuntModel {{')\n",
                "    ret.append(\"        PuntModel {\")\n",
                "    ret.append(f\"            intercept: {model.intercept_[0]:.3f},\")\n",
                "    for feature, coef in zip(punted_features, model.coef_[0]):\n",
                "        ret.append(f\"            {feature}: {coef:.3f},\")\n",
                "    ret.append(\"        }\")\n",
                "    ret.append(\"    }\")\n",
                "    return '\\n'.join(ret)\n",
                "\n",
                "def format_linr_coefs(model, name) -> str:\n",
                "    ret = []\n",
                "    ret.append(f'\\n    pub fn {name}() -> PuntModel {{')\n",
                "    ret.append(\"        PuntModel {\")\n",
                "    ret.append(f\"            intercept: {model.intercept_:.3f},\")\n",
                "    for feature, coef in zip(punted_features, model.coef_):\n",
                "        ret.append(f\"            {feature}: {coef:.3f},\")\n",
                "    ret.append(\"        }\")\n",
                "    ret.append('    }')\n",
                "    return '\\n'.join(ret)"
            ]
        },
        {
            "cell_type": "code",
            "execution_count": null,
            "metadata": {},
            "outputs": [],
            "source": []
        },
        {
            "cell_type": "code",
            "execution_count": null,
            "metadata": {},
            "outputs": [],
            "source": [
                "model_str_parts = [\"use crate::models::punt::PuntModel;\\n\", \"impl PuntModel {\"]\n",
                "model_str_parts.append(format_punt_block_coefs(punt_block_model, 'punt_block_coef'))\n",
                "model_str_parts.append(format_distance_coefs(punt_distance_model, 'punt_distance_coef'))\n",
                "model_str_parts.append(format_logr_coefs(touchback_model, 'touchback_coef'))\n",
                "model_str_parts.append(format_logr_coefs(fair_catch_model, 'fair_catch_coef'))\n",
                "model_str_parts.append(format_logr_coefs(fumlost_model, 'fumble_lost_coef'))\n",
                "model_str_parts.append(format_logr_coefs(fumlost_rtd_model, 'fumble_lost_return_td_coef'))\n",
                "model_str_parts.append(format_logr_coefs(return_td_model, 'punt_return_td_coef'))\n",
                "model_str_parts.append(format_logr_coefs(is_pos_return_yards_model, 'is_pos_punt_return_yards_coef'))\n",
                "model_str_parts.append(format_linr_coefs(pos_return_yards_model, 'pos_punt_return_yards_coef'))\n",
                "model_str_parts.append(format_linr_coefs(neg_return_yards_model, 'neg_punt_return_yards_coef'))\n",
                "model_str_parts.append(\"}\")\n",
                "\n",
                "model_str = \"\\n\".join(model_str_parts)\n",
                "\n",
                "with open(f'{MODELS_PATH}/punt/coef.rs', 'w') as f:\n",
                "    f.write(model_str)\n"
            ]
        },
        {
            "cell_type": "code",
            "execution_count": null,
            "metadata": {},
            "outputs": [],
            "source": []
        },
        {
            "cell_type": "code",
            "execution_count": null,
            "metadata": {},
            "outputs": [],
            "source": []
        }
    ],
    "metadata": {
        "kernelspec": {
            "display_name": "venv",
            "language": "python",
            "name": "python3"
        },
        "language_info": {
            "codemirror_mode": {
                "name": "ipython",
                "version": 3
            },
            "file_extension": ".py",
            "mimetype": "text/x-python",
            "name": "python",
            "nbconvert_exporter": "python",
            "pygments_lexer": "ipython3",
            "version": "3.11.6"
        },
        "orig_nbformat": 4
    },
    "nbformat": 4,
    "nbformat_minor": 2
}
